{
 "cells": [
  {
   "cell_type": "markdown",
   "metadata": {},
   "source": [
    "# Load data from server\n",
    "\n",
    "## 1. Import packages"
   ]
  },
  {
   "cell_type": "code",
   "execution_count": null,
   "metadata": {},
   "outputs": [],
   "source": [
    "import matplotlib.pyplot as plt\n",
    "import numpy as np\n",
    "import pandas as pd\n",
    "\n",
    "from astroquery.vizier import Vizier"
   ]
  },
  {
   "cell_type": "code",
   "execution_count": null,
   "metadata": {},
   "outputs": [],
   "source": [
    "import random\n",
    "import sys\n",
    "import os\n",
    "\n",
    "\n",
    "from math import *\n",
    "import matplotlib as mpl\n",
    "\n",
    "plt.rc('font', family='serif')\n",
    "mpl.rcParams.update({'font.size': 12})\n",
    "mpl.rcParams.update({'legend.labelspacing':0.25, 'legend.fontsize': 12})\n",
    "mpl.rcParams.update({'errorbar.capsize': 4})"
   ]
  },
  {
   "cell_type": "markdown",
   "metadata": {},
   "source": [
    "## 2. Load data"
   ]
  },
  {
   "cell_type": "code",
   "execution_count": null,
   "metadata": {},
   "outputs": [],
   "source": [
    "Vizier.ROW_LIMIT = 76 #30000\n",
    "catalogs = Vizier.get_catalogs('J/A+A/618/A93/members')  # astroquery.utils.commons.TableList\n",
    "print(catalogs)"
   ]
  },
  {
   "cell_type": "markdown",
   "metadata": {},
   "source": [
    "Since `catalogs` only has 1 table, we are only interested in `catalogs[0]`. We will transform it to a `pandas` Data Frame for ease of handling."
   ]
  },
  {
   "cell_type": "code",
   "execution_count": null,
   "metadata": {},
   "outputs": [],
   "source": [
    "catalog = catalogs[0].to_pandas()\n",
    "catalog = catalog.applymap(lambda x: x.decode() if isinstance(x, bytes) else x)\n",
    "catalog"
   ]
  },
  {
   "cell_type": "markdown",
   "metadata": {},
   "source": [
    "## 3. Create examples folder"
   ]
  },
  {
   "cell_type": "code",
   "execution_count": null,
   "metadata": {},
   "outputs": [],
   "source": [
    "if not os.path.exists('examples'):\n",
    "    os.makedirs('examples')\n",
    "if not os.path.exists('neg_examples'):\n",
    "    os.makedirs('neg_examples')"
   ]
  },
  {
   "cell_type": "markdown",
   "metadata": {},
   "source": [
    "## 4. "
   ]
  },
  {
   "cell_type": "code",
   "execution_count": null,
   "metadata": {},
   "outputs": [],
   "source": [
    "cluster_name = []\n",
    "len(cluster_name)"
   ]
  },
  {
   "cell_type": "code",
   "execution_count": null,
   "metadata": {},
   "outputs": [],
   "source": [
    "cluster_name.append(catalogs[0]['Cluster'][0])"
   ]
  },
  {
   "cell_type": "code",
   "execution_count": null,
   "metadata": {},
   "outputs": [],
   "source": [
    "cluster_name[-1]"
   ]
  },
  {
   "cell_type": "code",
   "execution_count": null,
   "metadata": {},
   "outputs": [],
   "source": [
    "gmag"
   ]
  },
  {
   "cell_type": "code",
   "execution_count": null,
   "metadata": {},
   "outputs": [],
   "source": [
    "tr_matrix"
   ]
  },
  {
   "cell_type": "code",
   "execution_count": null,
   "metadata": {},
   "outputs": [],
   "source": [
    "\n",
    "\n",
    "clusters = np.unique(catalogs[0]['Cluster'])\n",
    "number_clusters = len(clusters)\n",
    "\n"
   ]
  },
  {
   "cell_type": "code",
   "execution_count": null,
   "metadata": {},
   "outputs": [],
   "source": [
    "number_clusters"
   ]
  },
  {
   "cell_type": "code",
   "execution_count": null,
   "metadata": {},
   "outputs": [],
   "source": [
    "number_clusters = np.shape(catalogs[0])[0]"
   ]
  },
  {
   "cell_type": "code",
   "execution_count": null,
   "metadata": {},
   "outputs": [],
   "source": [
    "str(catalogs[0]['Gmag'][10]).find('--')"
   ]
  },
  {
   "cell_type": "code",
   "execution_count": null,
   "metadata": {},
   "outputs": [],
   "source": []
  },
  {
   "cell_type": "code",
   "execution_count": null,
   "metadata": {},
   "outputs": [],
   "source": []
  },
  {
   "cell_type": "code",
   "execution_count": null,
   "metadata": {},
   "outputs": [],
   "source": []
  },
  {
   "cell_type": "code",
   "execution_count": null,
   "metadata": {},
   "outputs": [],
   "source": [
    "number_clusters = np.shape(catalogs[0])[0]\n",
    "\n",
    "# initialize\n",
    "cluster_name = []\n",
    "tr_matrix = []\n",
    "#t = 0\n",
    "for i in np.arange(0, number_clusters):\n",
    "    if len(cluster_name) == 0: # initialization\n",
    "        #print(f'start {i}')\n",
    "        gmag = []\n",
    "        bp_rp = []\n",
    "        cluster_name.append(catalogs[0]['Cluster'][i])\n",
    "        \n",
    "    print(i, cluster_name[-1], catalogs[0]['Cluster'][i])\n",
    "\n",
    "    if len(cluster_name) > 0 and cluster_name[-1] == catalogs[0]['Cluster'][i]:\n",
    "        #print(f'medium {i}')\n",
    "        if (str(catalogs[0]['Gmag'][i]).find('--') < 0) and (str(catalogs[0]['BP-RP'][i]).find('--') < 0):\n",
    "            gmag.append (float(catalogs[0]['Gmag'][i]))\n",
    "            bp_rp.append (float(catalogs[0]['BP-RP'][i]))  \n",
    "\n",
    "    if len(cluster_name) > 0 and cluster_name[-1] != catalogs[0]['Cluster'][i]:\n",
    "        print(f'end {i}')\n",
    "        plt.scatter (bp_rp, gmag)\n",
    "        plt.xlabel(r'$B_p - R_p$ (mag)')\n",
    "        plt.ylabel(r'$G$ (mag)')\n",
    "        plt.ylim([18,8])\n",
    "        plt.savefig('Alessi_12.pdf')\n",
    "        plt.show()\n",
    "        \n",
    "        gmax = np.max (gmag)\n",
    "        gmin = np.min (gmag)\n",
    "        cmax = np.max (bp_rp)\n",
    "        cmin = np.min (bp_rp)\n",
    "        #print ('Values: ', gmax, gmin, cmax, cmin)\n",
    "\n",
    "        H, xedges, yedges = np.histogram2d (bp_rp, gmag, bins=20, density=True)\n",
    "\n",
    "        plt.imshow(H, interpolation='nearest')\n",
    "        plt.savefig ('examples/'+str(cluster_name[-1])+'.jpg')\n",
    "        plt.cla()\n",
    "        plt.clf()\n",
    "        plt.close()\n",
    "        plt.show()\n",
    "\n",
    "        H1 = H.reshape ((400))\n",
    "\n",
    "        for j in range (0, len(H1)):\n",
    "            print ('--> ', j, H1[j])\n",
    "\n",
    "        tr_matrix.append(H1)\n",
    "        \n",
    "        #break\n",
    "\n",
    "        gmag = []\n",
    "        bp_rp = []\n",
    "        cluster_name.append(catalogs[0]['Cluster'][i])\n",
    "\n",
    "    #print (i, catalogs[0]['Cluster'][i])\n",
    "\n",
    "\n",
    "#np.save ('matrix_real', tr_matrix)"
   ]
  },
  {
   "cell_type": "code",
   "execution_count": null,
   "metadata": {},
   "outputs": [],
   "source": [
    "test_file = 'matrix_real.npy'\n",
    "test_data = np.load(test_file, allow_pickle=True)\n",
    "test_data"
   ]
  },
  {
   "cell_type": "code",
   "execution_count": null,
   "metadata": {},
   "outputs": [],
   "source": [
    "cluster_name = []\n",
    "tr_matrix = []\n",
    "\n",
    "#create dir for examples\n",
    "if not os.path.exists('examples'):\n",
    "    os.makedirs('examples')\n",
    "if not os.path.exists('neg_examples'):\n",
    "    os.makedirs('neg_examples')\n",
    "\n",
    "\n",
    "t = 0\n",
    "for i in range (0, len(catalogs[0]['Cluster'])):\n",
    "\n",
    "\tif len(cluster_name) > 0 and cluster_name[-1] == catalogs[0]['Cluster'][i]:\n",
    "\n",
    "\t\t#print (str(catalogs[0]['Gmag'][i]), str(catalogs[0]['BP-RP'][i]))\n",
    "\n",
    "\t\tif (str(catalogs[0]['Gmag'][i]).find('--') < 0) and (str(catalogs[0]['BP-RP'][i]).find('--') < 0):\n",
    "\t\t\t#print ('NAN')\n",
    "\t\t\t#sys.exit(0)\n",
    "\n",
    "\t\t\tgm.append (float(catalogs[0]['Gmag'][i]))\t\t\n",
    "\t\t\tcl.append (float(catalogs[0]['BP-RP'][i]))  \n",
    "\t\t\n",
    "\n",
    "\n",
    "\tif len(cluster_name) > 0 and cluster_name[-1] != catalogs[0]['Cluster'][i]:\n",
    "\n",
    "\t\tplt.scatter (cl, gm)\n",
    "\t\tplt.xlabel(r'$B_p - R_p$ (mag)')\n",
    "\t\tplt.ylabel(r'$G$ (mag)')\n",
    "\t\tplt.ylim([18,8])\n",
    "\t\tplt.savefig('Alessi_12.pdf')\n",
    "\t\tplt.show()\n",
    "\n",
    "\t\tgmax = np.max (gm)\n",
    "\t\tgmin = np.min (gm)\n",
    "\t\tcmax = np.max (cl)\n",
    "\t\tcmin = np.min (cl)\n",
    "\n",
    "\n",
    "\t\tprint ('Values: ', gmax, gmin, cmax, cmin)\n",
    "\n",
    "\t\tH, xedges, yedges = np.histogram2d (cl, gm, bins=20, density=True)\n",
    "\n",
    "\t\tplt.imshow(H, interpolation='nearest')\n",
    "\t\tplt.savefig ('examples/'+str(cluster_name[-1])+'.jpg')\n",
    "\t\tplt.cla()\n",
    "\t\tplt.clf()\n",
    "\t\tplt.close()\n",
    "\t\t#plt.show()\n",
    "\n",
    "\t\tH1 = H.reshape ((400))\n",
    "\n",
    "\t\tfor j in range (0, len(H1)):\n",
    "\n",
    "\t\t\tprint ('--> ', j, H1[j])\n",
    "\n",
    "\t\ttr_matrix.append (H1)\n",
    "\t\n",
    "\t\t#break\n",
    "\n",
    "\t\tgm = []\n",
    "\t\tcl = []\n",
    "\t\tcluster_name.append(catalogs[0]['Cluster'][i])\n",
    "\n",
    "\n",
    "\tif len(cluster_name) == 0:\n",
    "\t\tgm = []\n",
    "\t\tcl = []\n",
    "\t\tcluster_name.append(catalogs[0]['Cluster'][i])\n",
    "\n",
    "\n",
    "\tprint (i, catalogs[0]['Cluster'][i])\n"
   ]
  },
  {
   "cell_type": "code",
   "execution_count": null,
   "metadata": {},
   "outputs": [],
   "source": []
  },
  {
   "cell_type": "code",
   "execution_count": null,
   "metadata": {},
   "outputs": [],
   "source": [
    "cluster_name = []\n",
    "tr_matrix = []\n",
    "\n",
    "t = 0\n",
    "for i in range (0, len(catalogs[0]['Cluster'])):\n",
    "\n",
    "\tif len(cluster_name) > 0 and cluster_name[-1] == catalogs[0]['Cluster'][i]:\n",
    "\n",
    "\t\t#print (str(catalogs[0]['Gmag'][i]), str(catalogs[0]['BP-RP'][i]))\n",
    "\n",
    "\t\tif (str(catalogs[0]['Gmag'][i]).find('--') < 0) and (str(catalogs[0]['BP-RP'][i]).find('--') < 0):\n",
    "\t\t\t#print ('NAN')\n",
    "\t\t\t#sys.exit(0)\n",
    "\n",
    "\t\t\tgm.append (float(catalogs[0]['Gmag'][i]))\t\t\n",
    "\t\t\tcl.append (float(catalogs[0]['BP-RP'][i]))  \n",
    "\t\t\n",
    "\n",
    "\n",
    "\tif len(cluster_name) > 0 and cluster_name[-1] != catalogs[0]['Cluster'][i]:\n",
    "\n",
    "\t\t#plt.scatter (cl, gm)\n",
    "\t\t#plt.xlabel(r'$B_p - R_p$ (mag)')\n",
    "\t\t#plt.ylabel(r'$G$ (mag)')\n",
    "\t\t#plt.ylim([18,8])\n",
    "\t\t#plt.savefig('Alessi_12.pdf')\n",
    "\t\t#plt.show()\n",
    "\n",
    "\t\t#gmax = np.max (gm)\n",
    "\t\t#gmin = np.min (gm)\n",
    "\t\t#cmax = np.max (cl)\n",
    "\t\t#cmin = np.min (cl)\n",
    "\n",
    "\n",
    "\t\t#print ('Values: ', gmax, gmin, cmax, cmin)\n",
    "\n",
    "\t\tH, xedges, yedges = np.histogram2d (cl, gm, bins=20, density=True)\n",
    "\n",
    "\t\tplt.imshow(H, interpolation='nearest')\n",
    "\t\t#plt.savefig ('examples/'+str(cluster_name[-1])+'.jpg')\n",
    "\t\tplt.cla()\n",
    "\t\tplt.clf()\n",
    "\t\tplt.close()\n",
    "\t\t#plt.show()\n",
    "\n",
    "\t\tH1 = H.reshape ((400))\n",
    "\n",
    "\t\tfor j in range (0, len(H1)):\n",
    "\n",
    "\t\t\tprint ('--> ', j, H1[j])\n",
    "\n",
    "\t\ttr_matrix.append (H1)\n",
    "\t\n",
    "\t\t#break\n",
    "\n",
    "\t\tgm = []\n",
    "\t\tcl = []\n",
    "\t\tcluster_name.append(catalogs[0]['Cluster'][i])\n",
    "\n",
    "\n",
    "\tif len(cluster_name) == 0:\n",
    "\t\tgm = []\n",
    "\t\tcl = []\n",
    "\t\tcluster_name.append(catalogs[0]['Cluster'][i])\n",
    "\n",
    "\n",
    "\tprint (i, catalogs[0]['Cluster'][i])\n",
    "\n",
    "\n",
    "#np.save ('matrix_real', tr_matrix)\n",
    "\n",
    "false_mtr = []\n",
    "\n",
    "print('Number of positive samples: ', len(tr_matrix))\n",
    "\n",
    "for i in range (0,len(tr_matrix)):\n",
    "\n",
    "\tn = int(random.uniform (30, 500)) ## number of stars\n",
    "\n",
    "\tgm = np.random.uniform (8, 18, size = n)\t\n",
    "\tcl = np.random.uniform (0, 5, size = n)\n",
    "\n",
    "\tH, xedges, yedges = np.histogram2d (cl, gm, bins=20, density=True)\n",
    "\n",
    "\tif i <= 10:\n",
    "\t\tplt.imshow(H, interpolation='nearest')\n",
    "\t\t#plt.savefig (f'neg_examples/{i}.jpg')\n",
    "\t\tplt.cla()\n",
    "\t\tplt.clf()\n",
    "\t\tplt.close()\n",
    "\n",
    "\tH1 = H.reshape ((400))\n",
    "\n",
    "\tfalse_mtr.append (H1)"
   ]
  },
  {
   "cell_type": "code",
   "execution_count": null,
   "metadata": {},
   "outputs": [],
   "source": []
  }
 ],
 "metadata": {
  "kernelspec": {
   "display_name": "Python 3",
   "language": "python",
   "name": "python3"
  },
  "language_info": {
   "codemirror_mode": {
    "name": "ipython",
    "version": 3
   },
   "file_extension": ".py",
   "mimetype": "text/x-python",
   "name": "python",
   "nbconvert_exporter": "python",
   "pygments_lexer": "ipython3",
   "version": "3.7.7"
  }
 },
 "nbformat": 4,
 "nbformat_minor": 4
}
