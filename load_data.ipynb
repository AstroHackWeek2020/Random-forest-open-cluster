{
 "cells": [
  {
   "cell_type": "markdown",
   "metadata": {},
   "source": [
    "# Load data from Vizier\n",
    "\n",
    "#### Index<a name=\"index\"></a>\n",
    "1. [Import packages](#imports)\n",
    "* [Load data](#loadData)\n",
    "\n",
    "## 1. Import packages<a name=\"imports\"></a>"
   ]
  },
  {
   "cell_type": "code",
   "execution_count": null,
   "metadata": {},
   "outputs": [],
   "source": [
    "import matplotlib.pyplot as plt\n",
    "import numpy as np\n",
    "import pandas as pd\n",
    "\n",
    "from astroquery.vizier import Vizier"
   ]
  },
  {
   "cell_type": "code",
   "execution_count": null,
   "metadata": {},
   "outputs": [],
   "source": [
    "import random\n",
    "import sys\n",
    "import os\n",
    "\n",
    "\n",
    "from math import *\n",
    "import matplotlib as mpl\n",
    "\n",
    "plt.rc('font', family='serif')\n",
    "mpl.rcParams.update({'font.size': 12})\n",
    "mpl.rcParams.update({'legend.labelspacing':0.25, 'legend.fontsize': 12})\n",
    "mpl.rcParams.update({'errorbar.capsize': 4})"
   ]
  },
  {
   "cell_type": "markdown",
   "metadata": {},
   "source": [
    "## 2. Load data<a name=\"loadData\"></a>"
   ]
  },
  {
   "cell_type": "code",
   "execution_count": null,
   "metadata": {},
   "outputs": [],
   "source": [
    "Vizier.ROW_LIMIT = 30000\n",
    "catalogs = Vizier.get_catalogs('J/A+A/618/A93/members')  # astroquery.utils.commons.TableList\n",
    "print(catalogs)"
   ]
  },
  {
   "cell_type": "markdown",
   "metadata": {},
   "source": [
    "Since `catalogs` only has 1 table, we are only interested in `catalogs[0]`. We will transform it to a `pandas` Data Frame for ease of handling."
   ]
  },
  {
   "cell_type": "code",
   "execution_count": null,
   "metadata": {},
   "outputs": [],
   "source": [
    "catalog = catalogs[0].to_pandas()\n",
    "catalog = catalog.applymap(lambda x: x.decode() if isinstance(x, bytes) else x)\n",
    "catalog.head()"
   ]
  },
  {
   "cell_type": "markdown",
   "metadata": {},
   "source": [
    "## 3. Create examples folder"
   ]
  },
  {
   "cell_type": "code",
   "execution_count": null,
   "metadata": {},
   "outputs": [],
   "source": [
    "if not os.path.exists('examples'):\n",
    "    os.makedirs('examples')\n",
    "if not os.path.exists('neg_examples'):\n",
    "    os.makedirs('neg_examples')"
   ]
  },
  {
   "cell_type": "markdown",
   "metadata": {},
   "source": [
    "## 4. Save data in the desired format"
   ]
  },
  {
   "cell_type": "code",
   "execution_count": null,
   "metadata": {},
   "outputs": [],
   "source": [
    "plot_scatter = True\n",
    "plot_hist = False"
   ]
  },
  {
   "cell_type": "markdown",
   "metadata": {},
   "source": [
    "### 4.1. True clusters"
   ]
  },
  {
   "cell_type": "code",
   "execution_count": null,
   "metadata": {},
   "outputs": [],
   "source": [
    "clusters = np.unique(catalog['Cluster'])\n",
    "number_clusters = len(clusters)\n",
    "\n",
    "true_clusters_2d_hist = []\n",
    "for cluster in clusters:\n",
    "    is_cluster = catalog['Cluster'] == cluster\n",
    "    data_cluster = catalog[is_cluster]\n",
    "    \n",
    "    # Remove stars for which Gaia didn't measure magnitude or colour\n",
    "    gmag = data_cluster['Gmag']\n",
    "    bp_rp = data_cluster['BP-RP']\n",
    "    is_nan = (np.isnan(bp_rp)) | (np.isnan(gmag))\n",
    "    data_cluster = data_cluster[~is_nan]\n",
    "    \n",
    "    gmag = data_cluster['Gmag']\n",
    "    bp_rp = data_cluster['BP-RP']\n",
    "    \n",
    "    if plot_scatter:\n",
    "        plt.scatter(bp_rp, gmag, marker='.')\n",
    "        plt.xlabel(r'$B_p - R_p$ (mag)')\n",
    "        plt.ylabel(r'$G$ (mag)')\n",
    "        plt.title(f'Cluster {cluster}')\n",
    "        plt.ylim([18,8])\n",
    "        plt.show()\n",
    "\n",
    "    hist, xedges, yedges = np.histogram2d(bp_rp, gmag, bins=20, \n",
    "                                          density=True)\n",
    "\n",
    "    plt.imshow(hist, interpolation='nearest')\n",
    "    plt.title(f'Cluster {cluster}')\n",
    "    plt.savefig(f'examples/{cluster}.jpg', bbox_inches='tight')\n",
    "    if plot_hist:\n",
    "        plt.show()\n",
    "    plt.close()\n",
    "\n",
    "    hist_linear = hist.reshape((400))\n",
    "    true_clusters_2d_hist.append(hist_linear)\n",
    "\n",
    "true_clusters_2d_hist_file = 'true_clusters_2d_hist.npy'\n",
    "np.save(true_clusters_2d_hist_file, true_clusters_2d_hist)"
   ]
  },
  {
   "cell_type": "markdown",
   "metadata": {},
   "source": [
    "Confirm the file was well saved by loading it."
   ]
  },
  {
   "cell_type": "code",
   "execution_count": null,
   "metadata": {},
   "outputs": [],
   "source": [
    "true_clusters_2d_hist_saved = np.load(true_clusters_2d_hist_file, allow_pickle=True)\n",
    "np.allclose(true_clusters_2d_hist_saved, true_clusters_2d_hist)"
   ]
  },
  {
   "cell_type": "code",
   "execution_count": null,
   "metadata": {},
   "outputs": [],
   "source": []
  }
 ],
 "metadata": {
  "kernelspec": {
   "display_name": "Python 3",
   "language": "python",
   "name": "python3"
  },
  "language_info": {
   "codemirror_mode": {
    "name": "ipython",
    "version": 3
   },
   "file_extension": ".py",
   "mimetype": "text/x-python",
   "name": "python",
   "nbconvert_exporter": "python",
   "pygments_lexer": "ipython3",
   "version": "3.7.7"
  }
 },
 "nbformat": 4,
 "nbformat_minor": 4
}
